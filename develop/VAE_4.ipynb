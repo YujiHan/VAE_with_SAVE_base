{
 "cells": [
  {
   "cell_type": "code",
   "execution_count": 1,
   "metadata": {},
   "outputs": [],
   "source": [
    "import torch\n",
    "import torch.nn as nn\n",
    "import numpy as np\n",
    "from torch.distributions import Normal\n",
    "from tqdm import tqdm\n",
    "from torch.utils.data import TensorDataset, DataLoader"
   ]
  },
  {
   "cell_type": "code",
   "execution_count": 2,
   "metadata": {},
   "outputs": [],
   "source": [
    "class Encoder(nn.Module):\n",
    "    def __init__(\n",
    "        self,\n",
    "        input_dim=2000,\n",
    "        layers=[512,256],\n",
    "        latent_dim=50,\n",
    "    ):\n",
    "        super().__init__()\n",
    "\n",
    "        hidden_dim = layers[-1]\n",
    "\n",
    "        hidden_layers = []\n",
    "        for i in range(len(layers) - 1):\n",
    "            hidden_layers.append(nn.Linear(layers[i], layers[i + 1]))\n",
    "            hidden_layers.append(nn.Tanh())\n",
    "            # hidden_layers.append(nn.Sigmoid())\n",
    "        \n",
    "        self.encoder_layers = nn.Sequential(\n",
    "            nn.Linear(input_dim, layers[0]),  # input_layer\n",
    "            *hidden_layers  # Unpack the list of layers\n",
    "        )\n",
    "\n",
    "        self.var_enc = nn.Sequential(nn.Linear(hidden_dim, latent_dim))\n",
    "        self.mu_enc = nn.Sequential(nn.Linear(hidden_dim, latent_dim))\n",
    "\n",
    "    def reparameterize(self, mu, var):\n",
    "        return Normal(mu, var.sqrt()).rsample()\n",
    "\n",
    "\n",
    "    def forward(self, x):\n",
    "        # Pass input through encoder layers\n",
    "        x = self.encoder_layers(x)\n",
    "\n",
    "        # Compute mean and variance\n",
    "        mu = self.mu_enc(x)\n",
    "        # make sure var>0\n",
    "        var = torch.clamp(torch.exp(self.var_enc(x)), min=1e-20)\n",
    "        z = self.reparameterize(mu, var)\n",
    "\n",
    "        return z, mu, var\n"
   ]
  },
  {
   "cell_type": "code",
   "execution_count": 3,
   "metadata": {},
   "outputs": [],
   "source": [
    "class Decoder(nn.Module):\n",
    "    def __init__(\n",
    "        self,\n",
    "        output_dim=2000,\n",
    "        latent_dim=50,\n",
    "        layers=[256,512],\n",
    "        is_norm_init=True,\n",
    "    ):\n",
    "        super().__init__()\n",
    "\n",
    "        hidden_layers = []\n",
    "        for i in range(len(layers) - 1):\n",
    "            hidden_layers.append(nn.Linear(layers[i], layers[i + 1]))\n",
    "            hidden_layers.append(nn.Tanh())\n",
    "            # hidden_layers.append(nn.Sigmoid())\n",
    "        \n",
    "        self.decoder_layers = nn.Sequential(\n",
    "            nn.Linear(latent_dim, layers[0]),  # input_layer\n",
    "            *hidden_layers  # Unpack the list of layers\n",
    "        )\n",
    "\n",
    "        self.out_layer = nn.Sequential(\n",
    "            nn.Linear(layers[-1], output_dim), nn.Sigmoid()\n",
    "        )\n",
    "\n",
    "        if is_norm_init:\n",
    "            self.initialize_weights()\n",
    "\n",
    "    def initialize_weights(self):\n",
    "        # Initialize transformer layers:\n",
    "        def _basic_init(module):\n",
    "            if isinstance(module, nn.Linear):\n",
    "                torch.nn.init.xavier_uniform_(module.weight)\n",
    "                if module.bias is not None:\n",
    "                    nn.init.constant_(module.bias, 0)\n",
    "\n",
    "        self.apply(_basic_init)\n",
    "\n",
    "\n",
    "\n",
    "    def forward(self, x):\n",
    "        x = self.decoder_layers(x)\n",
    "        x = self.out_layer(x)\n",
    "        \n",
    "        return x"
   ]
  },
  {
   "cell_type": "code",
   "execution_count": 4,
   "metadata": {},
   "outputs": [],
   "source": [
    "class VAE(nn.Module):\n",
    "    def __init__(\n",
    "        self,\n",
    "        input_dim=2000,\n",
    "        latent_dim=50,\n",
    "        enc_layers=[512,256],\n",
    "        dec_layers=[256,512],\n",
    "        is_initialize=True,\n",
    "        dec_norm_init=True,\n",
    "    ):\n",
    "        super().__init__()\n",
    "        # for parameter record\n",
    "        self.latent_dim = latent_dim\n",
    "\n",
    "        # z, mu, var\n",
    "        self.encoder = Encoder(\n",
    "            input_dim=input_dim,\n",
    "            layers=enc_layers,\n",
    "            latent_dim=latent_dim,\n",
    "        )\n",
    "\n",
    "        self.decoder = Decoder(\n",
    "            output_dim=2000,\n",
    "            latent_dim=50,\n",
    "            layers=[256,512],\n",
    "            is_norm_init=dec_norm_init,\n",
    "        )\n",
    "        \n",
    "        \n",
    "        if is_initialize:\n",
    "            self.initialize_weights()\n",
    "\n",
    "    def initialize_weights(self):\n",
    "        # Initialize transformer layers:\n",
    "        def _basic_init(module):\n",
    "            if isinstance(module, nn.Linear):\n",
    "                torch.nn.init.xavier_uniform_(module.weight)\n",
    "                if module.bias is not None:\n",
    "                    nn.init.constant_(module.bias, 0)\n",
    "\n",
    "        self.apply(_basic_init)\n"
   ]
  },
  {
   "cell_type": "markdown",
   "metadata": {},
   "source": [
    "### 模型定义检查"
   ]
  },
  {
   "cell_type": "code",
   "execution_count": 5,
   "metadata": {},
   "outputs": [],
   "source": [
    "device = 'cuda:1'\n",
    "\n",
    "net = VAE().to(device)\n",
    "\n",
    "arr = np.random.random((32,2000))\n",
    "data = torch.Tensor(arr).to(device)"
   ]
  },
  {
   "cell_type": "code",
   "execution_count": 6,
   "metadata": {},
   "outputs": [
    {
     "name": "stdout",
     "output_type": "stream",
     "text": [
      "z:torch.Size([32, 50]), result:torch.Size([32, 2000])\n"
     ]
    }
   ],
   "source": [
    "z, mu, var = net.encoder(data)\n",
    "result = net.decoder(z)\n",
    "\n",
    "print(f'z:{z.shape}, result:{result.shape}')"
   ]
  },
  {
   "cell_type": "markdown",
   "metadata": {},
   "source": [
    "# 模型训练"
   ]
  },
  {
   "cell_type": "code",
   "execution_count": 7,
   "metadata": {},
   "outputs": [],
   "source": [
    "import os\n",
    "import torch\n",
    "import torch.nn as nn\n",
    "import numpy as np\n",
    "import random\n",
    "from tqdm import tqdm\n",
    "import scanpy as sc\n",
    "import torch.nn.functional as F\n",
    "from collections import defaultdict\n",
    "from torch.distributions import Normal, kl_divergence\n",
    "from torch.optim import lr_scheduler"
   ]
  },
  {
   "cell_type": "code",
   "execution_count": 8,
   "metadata": {},
   "outputs": [],
   "source": [
    "def kl_div(mu, var):\n",
    "    return (\n",
    "        kl_divergence(\n",
    "            Normal(mu, var.sqrt()), Normal(torch.zeros_like(mu), torch.ones_like(var))\n",
    "        )\n",
    "        .sum(dim=1)\n",
    "        .mean()\n",
    "    )\n"
   ]
  },
  {
   "cell_type": "code",
   "execution_count": 9,
   "metadata": {},
   "outputs": [],
   "source": [
    "def VAE_train(\n",
    "    model,\n",
    "    dataloader,\n",
    "    num_epoch,\n",
    "    kl_scale=0.5,\n",
    "    device=torch.device(\"cuda:0\"),\n",
    "    lr=2e-4,\n",
    "    seed=1234,\n",
    "    is_lr_scheduler=True,\n",
    "    weight_decay=5e-4,\n",
    "):\n",
    "    random.seed(seed)\n",
    "    os.environ['PYTHONHASHSEED'] =str(seed)\n",
    "    np.random.seed(seed)\n",
    "    torch.manual_seed(seed)\n",
    "    torch.cuda.manual_seed(seed)\n",
    "    torch.cuda.manual_seed_all(seed)\n",
    "\n",
    "\n",
    "    optimizer = torch.optim.Adam(model.parameters(), lr=lr, weight_decay=weight_decay)\n",
    "    scheduler = lr_scheduler.CosineAnnealingLR(optimizer, T_max=num_epoch, last_epoch=-1)\n",
    "\n",
    "    tq = tqdm(range(num_epoch), ncols=80)\n",
    "    for epoch in tq:\n",
    "        model.train()\n",
    "        epoch_loss = defaultdict(float)\n",
    "        for i, (x,y) in enumerate(dataloader):\n",
    "            x = x.float().to(device)\n",
    "\n",
    "            z, mu, var = model.encoder(x)\n",
    "            recon_x = model.decoder(z)\n",
    "\n",
    "            # using bce loss estimating the error\n",
    "            recon_loss = F.binary_cross_entropy(recon_x, x) * x.size(-1)\n",
    "            kl_loss = kl_div(mu, var)\n",
    "            loss = {\"recon_loss\": recon_loss, \"kl_loss\": kl_scale * kl_loss}\n",
    "\n",
    "            optimizer.zero_grad()\n",
    "            sum(loss.values()).backward()\n",
    "            optimizer.step()\n",
    "\n",
    "            for k, v in loss.items():\n",
    "                epoch_loss[k] += loss[k].item()\n",
    "\n",
    "        if is_lr_scheduler:\n",
    "            scheduler.step()\n",
    "\n",
    "        epoch_loss = {k: v / (i + 1) for k, v in epoch_loss.items()}\n",
    "        epoch_info = \",\".join([\"{}={:.3f}\".format(k, v) for k, v in epoch_loss.items()])\n",
    "        tq.set_postfix_str(epoch_info)\n",
    "\n",
    "       \n",
    "    # for some config record\n",
    "    return epoch_loss\n"
   ]
  },
  {
   "cell_type": "code",
   "execution_count": 10,
   "metadata": {},
   "outputs": [],
   "source": [
    "from dataloader_VAE import get_h5ad_data,get_dataloader,normalize,inverse_normalize"
   ]
  },
  {
   "cell_type": "code",
   "execution_count": 11,
   "metadata": {},
   "outputs": [],
   "source": [
    "num_epoch=20\n",
    "batch_size=64\n",
    "\n",
    "data_list = get_h5ad_data()\n",
    "norm_data_list, scalers = normalize(data_list)\n",
    "dataloader = get_dataloader(norm_data_list,batch_size=batch_size)"
   ]
  },
  {
   "cell_type": "code",
   "execution_count": 13,
   "metadata": {},
   "outputs": [
    {
     "name": "stderr",
     "output_type": "stream",
     "text": [
      "100%|█████████| 20/20 [00:39<00:00,  1.97s/it, recon_loss=249.323,kl_loss=5.581]\n"
     ]
    },
    {
     "data": {
      "text/plain": [
       "{'recon_loss': 249.32267700799622, 'kl_loss': 5.580858720017739}"
      ]
     },
     "execution_count": 13,
     "metadata": {},
     "output_type": "execute_result"
    }
   ],
   "source": [
    "# def train_script(num_epoch,model_path=None, batch_size=64):\n",
    "\n",
    "\n",
    "\n",
    "model = VAE()\n",
    "\n",
    "device = torch.device(\"cuda:1\")\n",
    "net = VAE().to(device)\n",
    "\n",
    "VAE_train(net,dataloader,num_epoch,device=device)\n",
    "\n",
    "\n",
    "# model_save_path = + f\"model/ckpt/\" + model_path\n",
    "# torch.save(model.state_dict(), model_save_path)\n"
   ]
  },
  {
   "cell_type": "code",
   "execution_count": null,
   "metadata": {},
   "outputs": [],
   "source": []
  }
 ],
 "metadata": {
  "kernelspec": {
   "display_name": "DYffusion",
   "language": "python",
   "name": "python3"
  },
  "language_info": {
   "codemirror_mode": {
    "name": "ipython",
    "version": 3
   },
   "file_extension": ".py",
   "mimetype": "text/x-python",
   "name": "python",
   "nbconvert_exporter": "python",
   "pygments_lexer": "ipython3",
   "version": "3.8.19"
  }
 },
 "nbformat": 4,
 "nbformat_minor": 2
}
